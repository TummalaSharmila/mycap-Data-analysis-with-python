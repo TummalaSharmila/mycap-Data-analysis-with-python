{
 "cells": [
  {
   "cell_type": "code",
   "execution_count": 29,
   "id": "085e9206-11b5-4c26-b5fb-b86729a14c35",
   "metadata": {},
   "outputs": [
    {
     "name": "stdin",
     "output_type": "stream",
     "text": [
      "enter a value 1\n",
      "enter a value 7\n",
      "enter a value 3\n",
      "enter a value 9\n",
      "enter a value 10\n"
     ]
    },
    {
     "name": "stdout",
     "output_type": "stream",
     "text": [
      "{1, 3, 7, 9, 10}\n"
     ]
    }
   ],
   "source": [
    "i=1\n",
    "n=5\n",
    "E=set()\n",
    "for i in range(5):\n",
    "    s= int(input(\"enter a value\"))\n",
    "    E.add(s)\n",
    "    i= i+1\n",
    "print(E)"
   ]
  },
  {
   "cell_type": "code",
   "execution_count": 30,
   "id": "9508c3ec-b27d-44a8-96bb-d5262bd75967",
   "metadata": {},
   "outputs": [
    {
     "name": "stdin",
     "output_type": "stream",
     "text": [
      "enter a value 7\n",
      "enter a value 19\n",
      "enter a value 9\n",
      "enter a value 21\n",
      "enter a value 8\n"
     ]
    },
    {
     "name": "stdout",
     "output_type": "stream",
     "text": [
      "{7, 8, 9, 19, 21}\n"
     ]
    }
   ],
   "source": [
    "x=1\n",
    "N=set()\n",
    "for x in range(5):\n",
    "    s= int(input(\"enter a value\"))\n",
    "    N.add(s)\n",
    "    x= x+1\n",
    "print(N)"
   ]
  },
  {
   "cell_type": "code",
   "execution_count": 31,
   "id": "2962aac3-1100-4e4d-89b5-3b1439f8862e",
   "metadata": {},
   "outputs": [
    {
     "name": "stdout",
     "output_type": "stream",
     "text": [
      "union of E and N is  {1, 3, 7, 8, 9, 10, 19, 21}\n"
     ]
    }
   ],
   "source": [
    "print(\"union of E and N is \" ,E.union(N))"
   ]
  },
  {
   "cell_type": "code",
   "execution_count": 32,
   "id": "fc547718-c373-4899-9938-642b6c7a7fee",
   "metadata": {},
   "outputs": [
    {
     "name": "stdout",
     "output_type": "stream",
     "text": [
      "intersection of E and N is  {9, 7}\n"
     ]
    }
   ],
   "source": [
    "print(\"intersection of E and N is \", E.intersection(N))"
   ]
  },
  {
   "cell_type": "code",
   "execution_count": 33,
   "id": "94026d63-0b12-4f1d-8bf7-3031a77f2215",
   "metadata": {},
   "outputs": [
    {
     "name": "stdout",
     "output_type": "stream",
     "text": [
      "difference of E and N is  {1, 10, 3}\n"
     ]
    }
   ],
   "source": [
    "print(\"difference of E and N is \", E-N)"
   ]
  },
  {
   "cell_type": "code",
   "execution_count": 34,
   "id": "601edac1-b86b-4413-87f6-a8885773785a",
   "metadata": {},
   "outputs": [
    {
     "name": "stdout",
     "output_type": "stream",
     "text": [
      "difference of N and E is  {8, 19, 21}\n"
     ]
    }
   ],
   "source": [
    "print(\"difference of N and E is \", N-E)"
   ]
  },
  {
   "cell_type": "code",
   "execution_count": 35,
   "id": "058db048-dd97-48e5-a8cd-aa52a078733d",
   "metadata": {},
   "outputs": [
    {
     "name": "stdout",
     "output_type": "stream",
     "text": [
      "symmetric difference of E and N is  {1, 19, 3, 21, 8, 10}\n"
     ]
    }
   ],
   "source": [
    "print(\"symmetric difference of E and N is \", E^N)"
   ]
  },
  {
   "cell_type": "code",
   "execution_count": null,
   "id": "06ffc8e9-cdd9-4a01-9c26-4941d29d1045",
   "metadata": {},
   "outputs": [],
   "source": []
  }
 ],
 "metadata": {
  "kernelspec": {
   "display_name": "Python 3 (ipykernel)",
   "language": "python",
   "name": "python3"
  },
  "language_info": {
   "codemirror_mode": {
    "name": "ipython",
    "version": 3
   },
   "file_extension": ".py",
   "mimetype": "text/x-python",
   "name": "python",
   "nbconvert_exporter": "python",
   "pygments_lexer": "ipython3",
   "version": "3.12.0"
  }
 },
 "nbformat": 4,
 "nbformat_minor": 5
}
